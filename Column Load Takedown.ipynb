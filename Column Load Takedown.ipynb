{
 "cells": [
  {
   "cell_type": "code",
   "execution_count": null,
   "metadata": {},
   "outputs": [],
   "source": [
    "import pandas as pd\n",
    "#assign variable \"data\" to csv file\n",
    "data = pd.read_csv(\"Column Load Takedown.csv\")\n",
    "print(data) "
   ]
  },
  {
   "cell_type": "code",
   "execution_count": null,
   "metadata": {},
   "outputs": [],
   "source": [
    "#remove unwanted columns via drop command\n",
    "data.drop(['Unnamed: 2','Unnamed: 4','Unnamed: 7','Unnamed: 8','Unnamed: 9','Unnamed: 10','Unnamed: 11','Unnamed: 12','Unnamed: 13','Unnamed: 14'],inplace=True, axis=1)\n",
    "print(data)"
   ]
  },
  {
   "cell_type": "code",
   "execution_count": null,
   "metadata": {},
   "outputs": [],
   "source": [
    "#create a headerlist of headings for each column\n",
    "headerlist = ['Level','Element','Output Case','Station','Location']"
   ]
  },
  {
   "cell_type": "code",
   "execution_count": null,
   "metadata": {},
   "outputs": [],
   "source": [
    "#create another csv with heading as headerlist in the previous csv file and define separate variable for new csv\n",
    "data.to_csv(\"Column LTD.csv\",header=headerlist,index=False)\n",
    "data2 = pd.read_csv(\"Column LTD.csv\")\n",
    "print(data2)"
   ]
  },
  {
   "cell_type": "code",
   "execution_count": null,
   "metadata": {},
   "outputs": [],
   "source": [
    "#drop first row wih iloc command\n",
    "data2 = data2.iloc[1:]\n",
    "print(data2)"
   ]
  },
  {
   "cell_type": "code",
   "execution_count": null,
   "metadata": {},
   "outputs": [],
   "source": [
    "#drop rows with NaN data\n",
    "data2=data2.dropna()\n",
    "print(data2)"
   ]
  },
  {
   "cell_type": "code",
   "execution_count": null,
   "metadata": {},
   "outputs": [],
   "source": [
    "#create new variable having rows with \"0\" in \"station column\"\n",
    "data3 = data2[data2[\"Station\"] == '0']\n",
    "print(data3)"
   ]
  },
  {
   "cell_type": "code",
   "execution_count": null,
   "metadata": {},
   "outputs": [],
   "source": [
    "#create another variable to identify unique load cases in \"Output Case\" column \n",
    "data4 = data3[\"Output Case\"].unique()\n",
    "print(data4)"
   ]
  }
 ],
 "metadata": {
  "language_info": {
   "name": "python"
  },
  "orig_nbformat": 4
 },
 "nbformat": 4,
 "nbformat_minor": 2
}
